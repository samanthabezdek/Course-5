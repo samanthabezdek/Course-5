{
 "cells": [
  {
   "cell_type": "code",
   "execution_count": 1,
   "metadata": {},
   "outputs": [],
   "source": [
    "import pandas as pd\n",
    "import scipy as sc\n",
    "import numpy as np\n",
    "import matplotlib.pyplot as plt\n",
    "import seaborn as sns"
   ]
  },
  {
   "cell_type": "code",
   "execution_count": 2,
   "metadata": {},
   "outputs": [],
   "source": [
    "import os\n",
    "import matplotlib as plt"
   ]
  },
  {
   "cell_type": "code",
   "execution_count": 13,
   "metadata": {},
   "outputs": [],
   "source": [
    "os.chdir('C:\\\\Users\\\\Samantha\\\\Desktop\\\\data_mining\\\\Course 5\\\\Capstone')\n",
    "data = pd.read_csv('Ops Analyst Proj NEW.csv', header = 0)"
   ]
  },
  {
   "cell_type": "code",
   "execution_count": 14,
   "metadata": {},
   "outputs": [
    {
     "name": "stdout",
     "output_type": "stream",
     "text": [
      "<class 'pandas.core.frame.DataFrame'>\n",
      "RangeIndex: 8625 entries, 0 to 8624\n",
      "Data columns (total 23 columns):\n",
      "Group               8625 non-null object\n",
      "Interval            8625 non-null object\n",
      "Date                8625 non-null int64\n",
      "Date(2)             8625 non-null int64\n",
      "Day of Week         8625 non-null object\n",
      "Month               8625 non-null object\n",
      "Year                8625 non-null int64\n",
      "Calls Offered       8625 non-null int64\n",
      "Service Level       3354 non-null object\n",
      "Answered            8625 non-null int64\n",
      "ASA                 8625 non-null int64\n",
      "Abandoned           8625 non-null object\n",
      "ASAB                8625 non-null int64\n",
      "%_Aband             8625 non-null object\n",
      "Voicemail           8625 non-null int64\n",
      "AHT                 8625 non-null int64\n",
      "Staff Logged In     8625 non-null int64\n",
      "Talk Time           8625 non-null int64\n",
      "After Call Work     8625 non-null int64\n",
      "Inbound             8625 non-null int64\n",
      "% ANS by Primary    8625 non-null object\n",
      "Occupancy           8625 non-null object\n",
      "Unnamed: 22         2 non-null float64\n",
      "dtypes: float64(1), int64(13), object(9)\n",
      "memory usage: 1.5+ MB\n",
      "Stored 'data' (DataFrame)\n"
     ]
    }
   ],
   "source": [
    "data.info()\n",
    "%store data"
   ]
  },
  {
   "cell_type": "code",
   "execution_count": 15,
   "metadata": {},
   "outputs": [
    {
     "data": {
      "text/plain": [
       "Index(['Group', 'Interval', 'Date', 'Date(2)', 'Day of Week', 'Month', 'Year',\n",
       "       'Calls Offered', 'Service Level', 'Answered', 'ASA', 'Abandoned',\n",
       "       'ASAB', '%_Aband', 'Voicemail', 'AHT', 'Staff Logged In', 'Talk Time',\n",
       "       'After Call Work', 'Inbound', '% ANS by Primary', 'Occupancy',\n",
       "       'Unnamed: 22'],\n",
       "      dtype='object')"
      ]
     },
     "execution_count": 15,
     "metadata": {},
     "output_type": "execute_result"
    }
   ],
   "source": [
    "data.columns"
   ]
  },
  {
   "cell_type": "code",
   "execution_count": 16,
   "metadata": {},
   "outputs": [
    {
     "data": {
      "text/html": [
       "<div>\n",
       "<style scoped>\n",
       "    .dataframe tbody tr th:only-of-type {\n",
       "        vertical-align: middle;\n",
       "    }\n",
       "\n",
       "    .dataframe tbody tr th {\n",
       "        vertical-align: top;\n",
       "    }\n",
       "\n",
       "    .dataframe thead th {\n",
       "        text-align: right;\n",
       "    }\n",
       "</style>\n",
       "<table border=\"1\" class=\"dataframe\">\n",
       "  <thead>\n",
       "    <tr style=\"text-align: right;\">\n",
       "      <th></th>\n",
       "      <th>Group</th>\n",
       "      <th>Interval</th>\n",
       "      <th>Date</th>\n",
       "      <th>Date(2)</th>\n",
       "      <th>Day of Week</th>\n",
       "      <th>Month</th>\n",
       "      <th>Year</th>\n",
       "      <th>Calls Offered</th>\n",
       "      <th>Service Level</th>\n",
       "      <th>Answered</th>\n",
       "      <th>...</th>\n",
       "      <th>%_Aband</th>\n",
       "      <th>Voicemail</th>\n",
       "      <th>AHT</th>\n",
       "      <th>Staff Logged In</th>\n",
       "      <th>Talk Time</th>\n",
       "      <th>After Call Work</th>\n",
       "      <th>Inbound</th>\n",
       "      <th>% ANS by Primary</th>\n",
       "      <th>Occupancy</th>\n",
       "      <th>Unnamed: 22</th>\n",
       "    </tr>\n",
       "  </thead>\n",
       "  <tbody>\n",
       "    <tr>\n",
       "      <td>0</td>\n",
       "      <td>Spanish</td>\n",
       "      <td>12:00:00 AM</td>\n",
       "      <td>20190101</td>\n",
       "      <td>1</td>\n",
       "      <td>Tue</td>\n",
       "      <td>Jan</td>\n",
       "      <td>2019</td>\n",
       "      <td>1</td>\n",
       "      <td>0%</td>\n",
       "      <td>0</td>\n",
       "      <td>...</td>\n",
       "      <td>100%</td>\n",
       "      <td>0</td>\n",
       "      <td>0</td>\n",
       "      <td>0</td>\n",
       "      <td>0</td>\n",
       "      <td>0</td>\n",
       "      <td>0</td>\n",
       "      <td>0%</td>\n",
       "      <td>0%</td>\n",
       "      <td>NaN</td>\n",
       "    </tr>\n",
       "    <tr>\n",
       "      <td>1</td>\n",
       "      <td>Spanish</td>\n",
       "      <td>12:15:00 AM</td>\n",
       "      <td>20190101</td>\n",
       "      <td>1</td>\n",
       "      <td>Tue</td>\n",
       "      <td>Jan</td>\n",
       "      <td>2019</td>\n",
       "      <td>0</td>\n",
       "      <td>NaN</td>\n",
       "      <td>0</td>\n",
       "      <td>...</td>\n",
       "      <td>0%</td>\n",
       "      <td>0</td>\n",
       "      <td>0</td>\n",
       "      <td>0</td>\n",
       "      <td>0</td>\n",
       "      <td>0</td>\n",
       "      <td>0</td>\n",
       "      <td>0%</td>\n",
       "      <td>0%</td>\n",
       "      <td>NaN</td>\n",
       "    </tr>\n",
       "    <tr>\n",
       "      <td>2</td>\n",
       "      <td>Spanish</td>\n",
       "      <td>12:30:00 AM</td>\n",
       "      <td>20190101</td>\n",
       "      <td>1</td>\n",
       "      <td>Tue</td>\n",
       "      <td>Jan</td>\n",
       "      <td>2019</td>\n",
       "      <td>0</td>\n",
       "      <td>NaN</td>\n",
       "      <td>0</td>\n",
       "      <td>...</td>\n",
       "      <td>0%</td>\n",
       "      <td>0</td>\n",
       "      <td>0</td>\n",
       "      <td>0</td>\n",
       "      <td>0</td>\n",
       "      <td>0</td>\n",
       "      <td>0</td>\n",
       "      <td>0%</td>\n",
       "      <td>0%</td>\n",
       "      <td>NaN</td>\n",
       "    </tr>\n",
       "    <tr>\n",
       "      <td>3</td>\n",
       "      <td>Spanish</td>\n",
       "      <td>12:45:00 AM</td>\n",
       "      <td>20190101</td>\n",
       "      <td>1</td>\n",
       "      <td>Tue</td>\n",
       "      <td>Jan</td>\n",
       "      <td>2019</td>\n",
       "      <td>0</td>\n",
       "      <td>NaN</td>\n",
       "      <td>0</td>\n",
       "      <td>...</td>\n",
       "      <td>0%</td>\n",
       "      <td>0</td>\n",
       "      <td>0</td>\n",
       "      <td>0</td>\n",
       "      <td>0</td>\n",
       "      <td>0</td>\n",
       "      <td>0</td>\n",
       "      <td>0%</td>\n",
       "      <td>0%</td>\n",
       "      <td>NaN</td>\n",
       "    </tr>\n",
       "    <tr>\n",
       "      <td>4</td>\n",
       "      <td>Spanish</td>\n",
       "      <td>1:00:00 AM</td>\n",
       "      <td>20190101</td>\n",
       "      <td>1</td>\n",
       "      <td>Tue</td>\n",
       "      <td>Jan</td>\n",
       "      <td>2019</td>\n",
       "      <td>0</td>\n",
       "      <td>NaN</td>\n",
       "      <td>0</td>\n",
       "      <td>...</td>\n",
       "      <td>0%</td>\n",
       "      <td>0</td>\n",
       "      <td>0</td>\n",
       "      <td>0</td>\n",
       "      <td>0</td>\n",
       "      <td>0</td>\n",
       "      <td>0</td>\n",
       "      <td>0%</td>\n",
       "      <td>0%</td>\n",
       "      <td>NaN</td>\n",
       "    </tr>\n",
       "  </tbody>\n",
       "</table>\n",
       "<p>5 rows × 23 columns</p>\n",
       "</div>"
      ],
      "text/plain": [
       "     Group     Interval      Date  Date(2) Day of Week Month  Year  \\\n",
       "0  Spanish  12:00:00 AM  20190101        1         Tue   Jan  2019   \n",
       "1  Spanish  12:15:00 AM  20190101        1         Tue   Jan  2019   \n",
       "2  Spanish  12:30:00 AM  20190101        1         Tue   Jan  2019   \n",
       "3  Spanish  12:45:00 AM  20190101        1         Tue   Jan  2019   \n",
       "4  Spanish   1:00:00 AM  20190101        1         Tue   Jan  2019   \n",
       "\n",
       "   Calls Offered Service Level  Answered  ...  %_Aband Voicemail  AHT  \\\n",
       "0              1            0%         0  ...     100%         0    0   \n",
       "1              0           NaN         0  ...       0%         0    0   \n",
       "2              0           NaN         0  ...       0%         0    0   \n",
       "3              0           NaN         0  ...       0%         0    0   \n",
       "4              0           NaN         0  ...       0%         0    0   \n",
       "\n",
       "  Staff Logged In  Talk Time  After Call Work  Inbound  % ANS by Primary  \\\n",
       "0               0          0                0        0                0%   \n",
       "1               0          0                0        0                0%   \n",
       "2               0          0                0        0                0%   \n",
       "3               0          0                0        0                0%   \n",
       "4               0          0                0        0                0%   \n",
       "\n",
       "   Occupancy  Unnamed: 22  \n",
       "0         0%          NaN  \n",
       "1         0%          NaN  \n",
       "2         0%          NaN  \n",
       "3         0%          NaN  \n",
       "4         0%          NaN  \n",
       "\n",
       "[5 rows x 23 columns]"
      ]
     },
     "execution_count": 16,
     "metadata": {},
     "output_type": "execute_result"
    }
   ],
   "source": [
    "data.head()"
   ]
  },
  {
   "cell_type": "code",
   "execution_count": 18,
   "metadata": {},
   "outputs": [],
   "source": [
    "pd.isnull(data)\n",
    "#seemingly significant portion of service level oberservations are nan\n",
    "#What I want to do is change nan to 0, because I still want to be able to track the calls that come\n",
    "#in oustide of available SSS times for insight, rather than dismissing all observations outside of SSS business hrs\n",
    "#a) I want to see whether the calls that fall oustide of business hours show a trend, whether they're significant (especially)\n",
    "#the obs after 7 pm (SSS end of day)\n",
    "#b)is this only variable with nan? need to check\n",
    "#via describe funtcion:\n",
    "#Service Level       3354 non-null object of 8625 = 5,271 obs that are null; a majority (61%)\n",
    "#%_Aband             8624 non-null object; 1 obsv nan\n",
    "data1 = data.copy()"
   ]
  },
  {
   "cell_type": "code",
   "execution_count": 19,
   "metadata": {},
   "outputs": [],
   "source": [
    "data1 = data1.fillna(0)"
   ]
  },
  {
   "cell_type": "code",
   "execution_count": 20,
   "metadata": {},
   "outputs": [],
   "source": [
    "#data1[\"%_Aband\"] = data1[\"%_Aband\"].astype(\"int\")\n",
    "#df['product_type'] = df['product_type'].str.strip('product_type ')\n",
    "data1['%_Aband'] = data1['%_Aband'].str.strip('%_Aband')\n",
    "#credit1_copy[\"MAR\"] = credit1_copy[\"MAR\"].astype(\"int\")"
   ]
  },
  {
   "cell_type": "code",
   "execution_count": 21,
   "metadata": {},
   "outputs": [
    {
     "name": "stdout",
     "output_type": "stream",
     "text": [
      "<class 'pandas.core.frame.DataFrame'>\n",
      "RangeIndex: 8625 entries, 0 to 8624\n",
      "Data columns (total 23 columns):\n",
      "Group               8625 non-null object\n",
      "Interval            8625 non-null object\n",
      "Date                8625 non-null int64\n",
      "Date(2)             8625 non-null int64\n",
      "Day of Week         8625 non-null object\n",
      "Month               8625 non-null object\n",
      "Year                8625 non-null int64\n",
      "Calls Offered       8625 non-null int64\n",
      "Service Level       8625 non-null object\n",
      "Answered            8625 non-null int64\n",
      "ASA                 8625 non-null int64\n",
      "Abandoned           8625 non-null object\n",
      "ASAB                8625 non-null int64\n",
      "%_Aband             8625 non-null object\n",
      "Voicemail           8625 non-null int64\n",
      "AHT                 8625 non-null int64\n",
      "Staff Logged In     8625 non-null int64\n",
      "Talk Time           8625 non-null int64\n",
      "After Call Work     8625 non-null int64\n",
      "Inbound             8625 non-null int64\n",
      "% ANS by Primary    8625 non-null object\n",
      "Occupancy           8625 non-null object\n",
      "Unnamed: 22         8625 non-null float64\n",
      "dtypes: float64(1), int64(13), object(9)\n",
      "memory usage: 1.5+ MB\n"
     ]
    },
    {
     "data": {
      "text/plain": [
       "Date                 83.479777\n",
       "Date(2)               8.711421\n",
       "Year                  0.000000\n",
       "Calls Offered         2.595981\n",
       "Answered              1.914882\n",
       "ASA                 613.922734\n",
       "ASAB                463.118396\n",
       "Voicemail             0.010768\n",
       "AHT                1551.795654\n",
       "Staff Logged In    2323.724862\n",
       "Talk Time           883.491602\n",
       "After Call Work     643.487190\n",
       "Inbound               1.893314\n",
       "Unnamed: 22           0.000000\n",
       "dtype: float64"
      ]
     },
     "execution_count": 21,
     "metadata": {},
     "output_type": "execute_result"
    }
   ],
   "source": [
    "data1.info()\n",
    "#still one obs as nan in %_Aband\n",
    "data1.std()"
   ]
  },
  {
   "cell_type": "code",
   "execution_count": 22,
   "metadata": {},
   "outputs": [
    {
     "ename": "AttributeError",
     "evalue": "module 'matplotlib' has no attribute 'hist'",
     "output_type": "error",
     "traceback": [
      "\u001b[1;31m---------------------------------------------------------------------------\u001b[0m",
      "\u001b[1;31mAttributeError\u001b[0m                            Traceback (most recent call last)",
      "\u001b[1;32m<ipython-input-22-36be8c96cc79>\u001b[0m in \u001b[0;36m<module>\u001b[1;34m\u001b[0m\n\u001b[1;32m----> 1\u001b[1;33m \u001b[0mplt\u001b[0m\u001b[1;33m.\u001b[0m\u001b[0mhist\u001b[0m\u001b[1;33m(\u001b[0m\u001b[0mdata1\u001b[0m\u001b[1;33m[\u001b[0m\u001b[1;34m'%_Aband'\u001b[0m\u001b[1;33m]\u001b[0m\u001b[1;33m)\u001b[0m\u001b[1;33m\u001b[0m\u001b[1;33m\u001b[0m\u001b[0m\n\u001b[0m\u001b[0;32m      2\u001b[0m \u001b[0mplt\u001b[0m\u001b[1;33m.\u001b[0m\u001b[0mhist\u001b[0m\u001b[1;33m(\u001b[0m\u001b[0mdata1\u001b[0m\u001b[1;33m[\u001b[0m\u001b[1;34m'Calls Offered'\u001b[0m\u001b[1;33m]\u001b[0m\u001b[1;33m)\u001b[0m\u001b[1;33m\u001b[0m\u001b[1;33m\u001b[0m\u001b[0m\n",
      "\u001b[1;31mAttributeError\u001b[0m: module 'matplotlib' has no attribute 'hist'"
     ]
    }
   ],
   "source": [
    "plt.hist(data1['%_Aband'])\n",
    "plt.hist(data1['Calls Offered'])\n"
   ]
  },
  {
   "cell_type": "code",
   "execution_count": 23,
   "metadata": {},
   "outputs": [
    {
     "data": {
      "text/plain": [
       "Index(['Group', 'Interval', 'Date', 'Date(2)', 'Day of Week', 'Month', 'Year',\n",
       "       'Calls Offered', 'Service Level', 'Answered', 'ASA', 'Abandoned',\n",
       "       'ASAB', '%_Aband', 'Voicemail', 'AHT', 'Staff Logged In', 'Talk Time',\n",
       "       'After Call Work', 'Inbound', '% ANS by Primary', 'Occupancy',\n",
       "       'Unnamed: 22'],\n",
       "      dtype='object')"
      ]
     },
     "execution_count": 23,
     "metadata": {},
     "output_type": "execute_result"
    }
   ],
   "source": [
    "data1.columns"
   ]
  },
  {
   "cell_type": "code",
   "execution_count": 28,
   "metadata": {},
   "outputs": [],
   "source": [
    "#first remove insignificant rows - year, vm\n",
    "#data1 = data1.drop(['Year', 'Date', 'Voicemail', 'Unnamed: 22', 'Group'], axis = 1)\n",
    "data1 = data1.drop(['Unnamed: 22'], axis = 1)"
   ]
  },
  {
   "cell_type": "code",
   "execution_count": 29,
   "metadata": {},
   "outputs": [
    {
     "data": {
      "text/plain": [
       "Index(['Interval', 'Date(2)', 'Day of Week', 'Month', 'Calls Offered',\n",
       "       'Service Level', 'Answered', 'ASA', 'Abandoned', 'ASAB', '%_Aband',\n",
       "       'AHT', 'Staff Logged In', 'Talk Time', 'After Call Work', 'Inbound',\n",
       "       '% ANS by Primary', 'Occupancy'],\n",
       "      dtype='object')"
      ]
     },
     "execution_count": 29,
     "metadata": {},
     "output_type": "execute_result"
    }
   ],
   "source": [
    "data1.columns"
   ]
  },
  {
   "cell_type": "code",
   "execution_count": 30,
   "metadata": {},
   "outputs": [
    {
     "name": "stdout",
     "output_type": "stream",
     "text": [
      "Stored 'data1' (DataFrame)\n"
     ]
    }
   ],
   "source": [
    "%store data1"
   ]
  },
  {
   "cell_type": "code",
   "execution_count": 31,
   "metadata": {},
   "outputs": [
    {
     "data": {
      "text/html": [
       "<div>\n",
       "<style scoped>\n",
       "    .dataframe tbody tr th:only-of-type {\n",
       "        vertical-align: middle;\n",
       "    }\n",
       "\n",
       "    .dataframe tbody tr th {\n",
       "        vertical-align: top;\n",
       "    }\n",
       "\n",
       "    .dataframe thead th {\n",
       "        text-align: right;\n",
       "    }\n",
       "</style>\n",
       "<table border=\"1\" class=\"dataframe\">\n",
       "  <thead>\n",
       "    <tr style=\"text-align: right;\">\n",
       "      <th></th>\n",
       "      <th>Interval</th>\n",
       "      <th>Date</th>\n",
       "      <th>Day of Week</th>\n",
       "      <th>Month</th>\n",
       "      <th>Calls Offered</th>\n",
       "      <th>Service Level</th>\n",
       "      <th>Answered</th>\n",
       "      <th>ASA</th>\n",
       "      <th>Abandoned</th>\n",
       "      <th>ASAB</th>\n",
       "      <th>%_Aband</th>\n",
       "      <th>AHT</th>\n",
       "      <th>Staff Logged In</th>\n",
       "      <th>Talk Time</th>\n",
       "      <th>After Call Work</th>\n",
       "      <th>Inbound</th>\n",
       "      <th>% ANS by Primary</th>\n",
       "      <th>Occupancy</th>\n",
       "    </tr>\n",
       "  </thead>\n",
       "  <tbody>\n",
       "    <tr>\n",
       "      <td>0</td>\n",
       "      <td>12:00:00 AM</td>\n",
       "      <td>1</td>\n",
       "      <td>Tue</td>\n",
       "      <td>Jan</td>\n",
       "      <td>1</td>\n",
       "      <td>0%</td>\n",
       "      <td>0</td>\n",
       "      <td>0</td>\n",
       "      <td>100%</td>\n",
       "      <td>165</td>\n",
       "      <td>100</td>\n",
       "      <td>0</td>\n",
       "      <td>0</td>\n",
       "      <td>0</td>\n",
       "      <td>0</td>\n",
       "      <td>0</td>\n",
       "      <td>0%</td>\n",
       "      <td>0%</td>\n",
       "    </tr>\n",
       "    <tr>\n",
       "      <td>1</td>\n",
       "      <td>12:15:00 AM</td>\n",
       "      <td>1</td>\n",
       "      <td>Tue</td>\n",
       "      <td>Jan</td>\n",
       "      <td>0</td>\n",
       "      <td>0</td>\n",
       "      <td>0</td>\n",
       "      <td>0</td>\n",
       "      <td>0%</td>\n",
       "      <td>0</td>\n",
       "      <td>0</td>\n",
       "      <td>0</td>\n",
       "      <td>0</td>\n",
       "      <td>0</td>\n",
       "      <td>0</td>\n",
       "      <td>0</td>\n",
       "      <td>0%</td>\n",
       "      <td>0%</td>\n",
       "    </tr>\n",
       "    <tr>\n",
       "      <td>2</td>\n",
       "      <td>12:30:00 AM</td>\n",
       "      <td>1</td>\n",
       "      <td>Tue</td>\n",
       "      <td>Jan</td>\n",
       "      <td>0</td>\n",
       "      <td>0</td>\n",
       "      <td>0</td>\n",
       "      <td>0</td>\n",
       "      <td>0%</td>\n",
       "      <td>0</td>\n",
       "      <td>0</td>\n",
       "      <td>0</td>\n",
       "      <td>0</td>\n",
       "      <td>0</td>\n",
       "      <td>0</td>\n",
       "      <td>0</td>\n",
       "      <td>0%</td>\n",
       "      <td>0%</td>\n",
       "    </tr>\n",
       "    <tr>\n",
       "      <td>3</td>\n",
       "      <td>12:45:00 AM</td>\n",
       "      <td>1</td>\n",
       "      <td>Tue</td>\n",
       "      <td>Jan</td>\n",
       "      <td>0</td>\n",
       "      <td>0</td>\n",
       "      <td>0</td>\n",
       "      <td>0</td>\n",
       "      <td>0%</td>\n",
       "      <td>0</td>\n",
       "      <td>0</td>\n",
       "      <td>0</td>\n",
       "      <td>0</td>\n",
       "      <td>0</td>\n",
       "      <td>0</td>\n",
       "      <td>0</td>\n",
       "      <td>0%</td>\n",
       "      <td>0%</td>\n",
       "    </tr>\n",
       "    <tr>\n",
       "      <td>4</td>\n",
       "      <td>1:00:00 AM</td>\n",
       "      <td>1</td>\n",
       "      <td>Tue</td>\n",
       "      <td>Jan</td>\n",
       "      <td>0</td>\n",
       "      <td>0</td>\n",
       "      <td>0</td>\n",
       "      <td>0</td>\n",
       "      <td>0%</td>\n",
       "      <td>0</td>\n",
       "      <td>0</td>\n",
       "      <td>0</td>\n",
       "      <td>0</td>\n",
       "      <td>0</td>\n",
       "      <td>0</td>\n",
       "      <td>0</td>\n",
       "      <td>0%</td>\n",
       "      <td>0%</td>\n",
       "    </tr>\n",
       "    <tr>\n",
       "      <td>...</td>\n",
       "      <td>...</td>\n",
       "      <td>...</td>\n",
       "      <td>...</td>\n",
       "      <td>...</td>\n",
       "      <td>...</td>\n",
       "      <td>...</td>\n",
       "      <td>...</td>\n",
       "      <td>...</td>\n",
       "      <td>...</td>\n",
       "      <td>...</td>\n",
       "      <td>...</td>\n",
       "      <td>...</td>\n",
       "      <td>...</td>\n",
       "      <td>...</td>\n",
       "      <td>...</td>\n",
       "      <td>...</td>\n",
       "      <td>...</td>\n",
       "      <td>...</td>\n",
       "    </tr>\n",
       "    <tr>\n",
       "      <td>8620</td>\n",
       "      <td>10:45:00 PM</td>\n",
       "      <td>31</td>\n",
       "      <td>Sun</td>\n",
       "      <td>Mar</td>\n",
       "      <td>1</td>\n",
       "      <td>100%</td>\n",
       "      <td>1</td>\n",
       "      <td>4</td>\n",
       "      <td>0%</td>\n",
       "      <td>0</td>\n",
       "      <td>0</td>\n",
       "      <td>0</td>\n",
       "      <td>0</td>\n",
       "      <td>0</td>\n",
       "      <td>0</td>\n",
       "      <td>0</td>\n",
       "      <td>0%</td>\n",
       "      <td>0%</td>\n",
       "    </tr>\n",
       "    <tr>\n",
       "      <td>8621</td>\n",
       "      <td>11:00:00 PM</td>\n",
       "      <td>31</td>\n",
       "      <td>Sun</td>\n",
       "      <td>Mar</td>\n",
       "      <td>0</td>\n",
       "      <td>0</td>\n",
       "      <td>0</td>\n",
       "      <td>0</td>\n",
       "      <td>0%</td>\n",
       "      <td>0</td>\n",
       "      <td>0</td>\n",
       "      <td>0</td>\n",
       "      <td>0</td>\n",
       "      <td>0</td>\n",
       "      <td>0</td>\n",
       "      <td>0</td>\n",
       "      <td>0%</td>\n",
       "      <td>0%</td>\n",
       "    </tr>\n",
       "    <tr>\n",
       "      <td>8622</td>\n",
       "      <td>11:15:00 PM</td>\n",
       "      <td>31</td>\n",
       "      <td>Sun</td>\n",
       "      <td>Mar</td>\n",
       "      <td>0</td>\n",
       "      <td>0</td>\n",
       "      <td>0</td>\n",
       "      <td>0</td>\n",
       "      <td>0%</td>\n",
       "      <td>0</td>\n",
       "      <td>0</td>\n",
       "      <td>0</td>\n",
       "      <td>0</td>\n",
       "      <td>0</td>\n",
       "      <td>0</td>\n",
       "      <td>0</td>\n",
       "      <td>0%</td>\n",
       "      <td>0%</td>\n",
       "    </tr>\n",
       "    <tr>\n",
       "      <td>8623</td>\n",
       "      <td>11:30:00 PM</td>\n",
       "      <td>31</td>\n",
       "      <td>Sun</td>\n",
       "      <td>Mar</td>\n",
       "      <td>0</td>\n",
       "      <td>0</td>\n",
       "      <td>0</td>\n",
       "      <td>0</td>\n",
       "      <td>0%</td>\n",
       "      <td>0</td>\n",
       "      <td>0</td>\n",
       "      <td>0</td>\n",
       "      <td>0</td>\n",
       "      <td>0</td>\n",
       "      <td>0</td>\n",
       "      <td>0</td>\n",
       "      <td>0%</td>\n",
       "      <td>0%</td>\n",
       "    </tr>\n",
       "    <tr>\n",
       "      <td>8624</td>\n",
       "      <td>11:45:00 PM</td>\n",
       "      <td>31</td>\n",
       "      <td>Sun</td>\n",
       "      <td>Mar</td>\n",
       "      <td>1</td>\n",
       "      <td>0%</td>\n",
       "      <td>0</td>\n",
       "      <td>0</td>\n",
       "      <td>100%</td>\n",
       "      <td>165</td>\n",
       "      <td>100</td>\n",
       "      <td>0</td>\n",
       "      <td>0</td>\n",
       "      <td>0</td>\n",
       "      <td>0</td>\n",
       "      <td>0</td>\n",
       "      <td>0%</td>\n",
       "      <td>0%</td>\n",
       "    </tr>\n",
       "  </tbody>\n",
       "</table>\n",
       "<p>8625 rows × 18 columns</p>\n",
       "</div>"
      ],
      "text/plain": [
       "         Interval  Date Day of Week Month  Calls Offered Service Level  \\\n",
       "0     12:00:00 AM     1         Tue   Jan              1            0%   \n",
       "1     12:15:00 AM     1         Tue   Jan              0             0   \n",
       "2     12:30:00 AM     1         Tue   Jan              0             0   \n",
       "3     12:45:00 AM     1         Tue   Jan              0             0   \n",
       "4      1:00:00 AM     1         Tue   Jan              0             0   \n",
       "...           ...   ...         ...   ...            ...           ...   \n",
       "8620  10:45:00 PM    31         Sun   Mar              1          100%   \n",
       "8621  11:00:00 PM    31         Sun   Mar              0             0   \n",
       "8622  11:15:00 PM    31         Sun   Mar              0             0   \n",
       "8623  11:30:00 PM    31         Sun   Mar              0             0   \n",
       "8624  11:45:00 PM    31         Sun   Mar              1            0%   \n",
       "\n",
       "      Answered  ASA Abandoned  ASAB %_Aband  AHT  Staff Logged In  Talk Time  \\\n",
       "0            0    0      100%   165     100    0                0          0   \n",
       "1            0    0        0%     0       0    0                0          0   \n",
       "2            0    0        0%     0       0    0                0          0   \n",
       "3            0    0        0%     0       0    0                0          0   \n",
       "4            0    0        0%     0       0    0                0          0   \n",
       "...        ...  ...       ...   ...     ...  ...              ...        ...   \n",
       "8620         1    4        0%     0       0    0                0          0   \n",
       "8621         0    0        0%     0       0    0                0          0   \n",
       "8622         0    0        0%     0       0    0                0          0   \n",
       "8623         0    0        0%     0       0    0                0          0   \n",
       "8624         0    0      100%   165     100    0                0          0   \n",
       "\n",
       "      After Call Work  Inbound % ANS by Primary Occupancy  \n",
       "0                   0        0               0%        0%  \n",
       "1                   0        0               0%        0%  \n",
       "2                   0        0               0%        0%  \n",
       "3                   0        0               0%        0%  \n",
       "4                   0        0               0%        0%  \n",
       "...               ...      ...              ...       ...  \n",
       "8620                0        0               0%        0%  \n",
       "8621                0        0               0%        0%  \n",
       "8622                0        0               0%        0%  \n",
       "8623                0        0               0%        0%  \n",
       "8624                0        0               0%        0%  \n",
       "\n",
       "[8625 rows x 18 columns]"
      ]
     },
     "execution_count": 31,
     "metadata": {},
     "output_type": "execute_result"
    }
   ],
   "source": [
    "data1.rename(columns = {'Date(2)':'Date'})"
   ]
  },
  {
   "cell_type": "code",
   "execution_count": 33,
   "metadata": {},
   "outputs": [
    {
     "data": {
      "text/plain": [
       "Calls Offered\n",
       "0     5273\n",
       "1      932\n",
       "2      580\n",
       "3      530\n",
       "4      454\n",
       "5      279\n",
       "6      217\n",
       "7      127\n",
       "8       88\n",
       "9       56\n",
       "10      32\n",
       "11      15\n",
       "12      12\n",
       "13      12\n",
       "14       5\n",
       "15       1\n",
       "18       3\n",
       "19       1\n",
       "21       1\n",
       "22       1\n",
       "25       1\n",
       "42       1\n",
       "46       1\n",
       "50       1\n",
       "55       1\n",
       "70       1\n",
       "Name: Calls Offered, dtype: int64"
      ]
     },
     "execution_count": 33,
     "metadata": {},
     "output_type": "execute_result"
    }
   ],
   "source": [
    "data1.groupby('Calls Offered')['Calls Offered'].count()"
   ]
  },
  {
   "cell_type": "code",
   "execution_count": 35,
   "metadata": {},
   "outputs": [
    {
     "data": {
      "text/plain": [
       "Service Level\n",
       "0       5271\n",
       "0%       656\n",
       "10%        1\n",
       "100%    1764\n",
       "11%        3\n",
       "117%       1\n",
       "120%       3\n",
       "125%       5\n",
       "13%        8\n",
       "133%       5\n",
       "14%        9\n",
       "15%        2\n",
       "150%      17\n",
       "16%        1\n",
       "167%       1\n",
       "17%       13\n",
       "18%        2\n",
       "2%         1\n",
       "20%       26\n",
       "200%      10\n",
       "22%        5\n",
       "25%       33\n",
       "27%        1\n",
       "28%        1\n",
       "29%        9\n",
       "30%        2\n",
       "33%       63\n",
       "36%        3\n",
       "37%        1\n",
       "38%        4\n",
       "40%       33\n",
       "42%        1\n",
       "43%       15\n",
       "44%        3\n",
       "46%        1\n",
       "5%         1\n",
       "50%      179\n",
       "55%        1\n",
       "56%        8\n",
       "57%       15\n",
       "58%        1\n",
       "60%       29\n",
       "63%        6\n",
       "67%      161\n",
       "69%        1\n",
       "7%         1\n",
       "70%        2\n",
       "71%       13\n",
       "75%       97\n",
       "78%        4\n",
       "8%         2\n",
       "80%       55\n",
       "83%       40\n",
       "86%       16\n",
       "88%       11\n",
       "89%        2\n",
       "90%        3\n",
       "91%        2\n",
       "92%        1\n",
       "Name: Service Level, dtype: int64"
      ]
     },
     "execution_count": 35,
     "metadata": {},
     "output_type": "execute_result"
    }
   ],
   "source": [
    "data1.groupby('Service Level')['Service Level'].count()"
   ]
  },
  {
   "cell_type": "code",
   "execution_count": 44,
   "metadata": {},
   "outputs": [
    {
     "data": {
      "text/plain": [
       "Day of Week\n",
       "Fri    1238\n",
       "Mon    1152\n",
       "Sat    1247\n",
       "Sun    1244\n",
       "Thu    1248\n",
       "Tue    1248\n",
       "Wed    1248\n",
       "Name: Abandoned, dtype: int64"
      ]
     },
     "execution_count": 44,
     "metadata": {},
     "output_type": "execute_result"
    }
   ],
   "source": [
    "data1.groupby('Day of Week')['Abandoned'].count()"
   ]
  },
  {
   "cell_type": "code",
   "execution_count": 45,
   "metadata": {},
   "outputs": [
    {
     "data": {
      "text/plain": [
       "Abandoned\n",
       "0%        7756\n",
       "10%         10\n",
       "100%       173\n",
       "11%         15\n",
       "113%         2\n",
       "118%         1\n",
       "119%         1\n",
       "125%         1\n",
       "13%         23\n",
       "133%         1\n",
       "14%         38\n",
       "15%          4\n",
       "150%         6\n",
       "160%         1\n",
       "167%         1\n",
       "17%         41\n",
       "172%         1\n",
       "18%          2\n",
       "20%         56\n",
       "200%        11\n",
       "22%          8\n",
       "25%         81\n",
       "27%          2\n",
       "29%         15\n",
       "30%          3\n",
       "300%         1\n",
       "31%          2\n",
       "33%        118\n",
       "350%         1\n",
       "36%          2\n",
       "38%          8\n",
       "39%          1\n",
       "40%         23\n",
       "43%          6\n",
       "44%          6\n",
       "45%          1\n",
       "49300%       1\n",
       "5%           1\n",
       "50%        118\n",
       "54%          1\n",
       "57%          3\n",
       "60%         15\n",
       "61%          1\n",
       "63%          2\n",
       "64%          1\n",
       "67%         24\n",
       "71%          1\n",
       "73%          1\n",
       "75%         12\n",
       "77%          2\n",
       "78%          2\n",
       "8%           6\n",
       "80%          5\n",
       "82%          1\n",
       "83%          1\n",
       "86%          1\n",
       "9%           3\n",
       "91%          1\n",
       "Name: Day of Week, dtype: int64"
      ]
     },
     "execution_count": 45,
     "metadata": {},
     "output_type": "execute_result"
    }
   ],
   "source": [
    "data1.groupby('Abandoned')['Day of Week'].count()"
   ]
  },
  {
   "cell_type": "code",
   "execution_count": 48,
   "metadata": {},
   "outputs": [
    {
     "data": {
      "text/plain": [
       "Calls Offered  Interval   \n",
       "0              10:00:00 AM    27\n",
       "               10:00:00 PM    84\n",
       "               10:15:00 AM    26\n",
       "               10:15:00 PM    83\n",
       "               10:30:00 AM    23\n",
       "                              ..\n",
       "42             5:15:00 PM      1\n",
       "46             5:15:00 PM      1\n",
       "50             11:30:00 AM     1\n",
       "55             11:45:00 AM     1\n",
       "70             11:45:00 AM     1\n",
       "Name: Calls Offered, Length: 647, dtype: int64"
      ]
     },
     "execution_count": 48,
     "metadata": {},
     "output_type": "execute_result"
    }
   ],
   "source": [
    "data1.groupby(['Calls Offered', 'Interval'])['Calls Offered'].count()"
   ]
  },
  {
   "cell_type": "code",
   "execution_count": 49,
   "metadata": {},
   "outputs": [
    {
     "data": {
      "text/plain": [
       "Calls Offered  Day of Week\n",
       "0              Fri             622\n",
       "               Mon             533\n",
       "               Sat            1119\n",
       "               Sun            1143\n",
       "               Thu             614\n",
       "                              ... \n",
       "42             Wed               1\n",
       "46             Wed               1\n",
       "50             Mon               1\n",
       "55             Wed               1\n",
       "70             Mon               1\n",
       "Name: Calls Offered, Length: 94, dtype: int64"
      ]
     },
     "execution_count": 49,
     "metadata": {},
     "output_type": "execute_result"
    }
   ],
   "source": [
    "data1.groupby(['Calls Offered', 'Day of Week'])['Calls Offered'].count()"
   ]
  },
  {
   "cell_type": "code",
   "execution_count": 50,
   "metadata": {},
   "outputs": [
    {
     "data": {
      "text/plain": [
       "Calls Offered  Month\n",
       "0              Feb      1621\n",
       "               Jan      1766\n",
       "               Mar      1886\n",
       "1              Feb       252\n",
       "               Jan       356\n",
       "               Mar       324\n",
       "2              Feb       149\n",
       "               Jan       206\n",
       "               Mar       225\n",
       "3              Feb       173\n",
       "               Jan       176\n",
       "               Mar       181\n",
       "4              Feb       140\n",
       "               Jan       177\n",
       "               Mar       137\n",
       "5              Feb        76\n",
       "               Jan       117\n",
       "               Mar        86\n",
       "6              Feb        85\n",
       "               Jan        76\n",
       "               Mar        56\n",
       "7              Feb        51\n",
       "               Jan        37\n",
       "               Mar        39\n",
       "8              Feb        49\n",
       "               Jan        22\n",
       "               Mar        17\n",
       "9              Feb        26\n",
       "               Jan        19\n",
       "               Mar        11\n",
       "10             Feb        20\n",
       "               Jan        10\n",
       "               Mar         2\n",
       "11             Feb         8\n",
       "               Jan         6\n",
       "               Mar         1\n",
       "12             Feb         6\n",
       "               Jan         6\n",
       "13             Feb        11\n",
       "               Mar         1\n",
       "14             Feb         3\n",
       "               Jan         1\n",
       "               Mar         1\n",
       "15             Feb         1\n",
       "18             Feb         2\n",
       "               Mar         1\n",
       "19             Feb         1\n",
       "21             Feb         1\n",
       "22             Feb         1\n",
       "25             Feb         1\n",
       "42             Feb         1\n",
       "46             Feb         1\n",
       "50             Feb         1\n",
       "55             Feb         1\n",
       "70             Feb         1\n",
       "Name: Calls Offered, dtype: int64"
      ]
     },
     "execution_count": 50,
     "metadata": {},
     "output_type": "execute_result"
    }
   ],
   "source": [
    "data1.groupby(['Calls Offered', 'Month'])['Calls Offered'].count()"
   ]
  },
  {
   "cell_type": "code",
   "execution_count": 53,
   "metadata": {},
   "outputs": [],
   "source": [
    "DOW_graph = data1.groupby(['Day of Week', 'Calls Offered'])['Calls Offered'].count()"
   ]
  },
  {
   "cell_type": "code",
   "execution_count": 54,
   "metadata": {},
   "outputs": [
    {
     "name": "stderr",
     "output_type": "stream",
     "text": [
      "C:\\Users\\Samantha\\Anaconda3\\lib\\site-packages\\seaborn\\categorical.py:3666: UserWarning: The `factorplot` function has been renamed to `catplot`. The original name will be removed in a future release. Please update your code. Note that the default `kind` in `factorplot` (`'point'`) has changed `'strip'` in `catplot`.\n",
      "  warnings.warn(msg)\n"
     ]
    },
    {
     "data": {
      "text/plain": [
       "<seaborn.axisgrid.FacetGrid at 0x1bb52ec02e8>"
      ]
     },
     "execution_count": 54,
     "metadata": {},
     "output_type": "execute_result"
    },
    {
     "data": {
      "image/png": "[encoded data removed]",
      "text/plain": [
       "<Figure size 540x360 with 1 Axes>"
      ]
     },
     "metadata": {
      "needs_background": "light"
     },
     "output_type": "display_data"
    }
   ],
   "source": [
    "sns.factorplot('Day of Week', data = data1, kind='count', aspect=1.5)"
   ]
  },
  {
   "cell_type": "code",
   "execution_count": 55,
   "metadata": {},
   "outputs": [
    {
     "data": {
      "text/plain": [
       "<seaborn.axisgrid.FacetGrid at 0x1bb53072320>"
      ]
     },
     "execution_count": 55,
     "metadata": {},
     "output_type": "execute_result"
    },
    {
     "data": {
      "image/png": "[encoded data removed]",
      "text/plain": [
       "<Figure size 540x360 with 1 Axes>"
      ]
     },
     "metadata": {
      "needs_background": "light"
     },
     "output_type": "display_data"
    }
   ],
   "source": [
    "sns.factorplot('Calls Offered', data = data1, kind='count', aspect=1.5)"
   ]
  },
  {
   "cell_type": "code",
   "execution_count": 57,
   "metadata": {},
   "outputs": [
    {
     "data": {
      "image/png": "[encoded data removed]",
      "text/plain": [
       "<Figure size 711.75x360 with 1 Axes>"
      ]
     },
     "metadata": {
      "needs_background": "light"
     },
     "output_type": "display_data"
    }
   ],
   "source": [
    "DOW = sns.factorplot('Day of Week', data = data1, hue = 'Calls Offered', kind='count', aspect=1.75)"
   ]
  },
  {
   "cell_type": "code",
   "execution_count": 58,
   "metadata": {},
   "outputs": [
    {
     "data": {
      "text/plain": [
       "<seaborn.axisgrid.FacetGrid at 0x1bb531a8898>"
      ]
     },
     "execution_count": 58,
     "metadata": {},
     "output_type": "execute_result"
    },
    {
     "data": {
      "image/png": "[encoded data removed]",
      "text/plain": [
       "<Figure size 711.75x360 with 1 Axes>"
      ]
     },
     "metadata": {
      "needs_background": "light"
     },
     "output_type": "display_data"
    }
   ],
   "source": [
    "sns.factorplot('Month', data = data1, hue = 'Calls Offered', kind='count', aspect=1.75)"
   ]
  },
  {
   "cell_type": "code",
   "execution_count": 59,
   "metadata": {},
   "outputs": [
    {
     "data": {
      "text/html": [
       "<div>\n",
       "<style scoped>\n",
       "    .dataframe tbody tr th:only-of-type {\n",
       "        vertical-align: middle;\n",
       "    }\n",
       "\n",
       "    .dataframe tbody tr th {\n",
       "        vertical-align: top;\n",
       "    }\n",
       "\n",
       "    .dataframe thead th {\n",
       "        text-align: right;\n",
       "    }\n",
       "</style>\n",
       "<table border=\"1\" class=\"dataframe\">\n",
       "  <thead>\n",
       "    <tr style=\"text-align: right;\">\n",
       "      <th>Month</th>\n",
       "      <th>Feb</th>\n",
       "      <th>Jan</th>\n",
       "      <th>Mar</th>\n",
       "      <th>All</th>\n",
       "    </tr>\n",
       "    <tr>\n",
       "      <th>Day of Week</th>\n",
       "      <th></th>\n",
       "      <th></th>\n",
       "      <th></th>\n",
       "      <th></th>\n",
       "    </tr>\n",
       "  </thead>\n",
       "  <tbody>\n",
       "    <tr>\n",
       "      <td>Fri</td>\n",
       "      <td>665</td>\n",
       "      <td>655</td>\n",
       "      <td>638</td>\n",
       "      <td>1958</td>\n",
       "    </tr>\n",
       "    <tr>\n",
       "      <td>Mon</td>\n",
       "      <td>1019</td>\n",
       "      <td>785</td>\n",
       "      <td>735</td>\n",
       "      <td>2539</td>\n",
       "    </tr>\n",
       "    <tr>\n",
       "      <td>Sat</td>\n",
       "      <td>51</td>\n",
       "      <td>49</td>\n",
       "      <td>48</td>\n",
       "      <td>148</td>\n",
       "    </tr>\n",
       "    <tr>\n",
       "      <td>Sun</td>\n",
       "      <td>30</td>\n",
       "      <td>53</td>\n",
       "      <td>41</td>\n",
       "      <td>124</td>\n",
       "    </tr>\n",
       "    <tr>\n",
       "      <td>Thu</td>\n",
       "      <td>756</td>\n",
       "      <td>815</td>\n",
       "      <td>566</td>\n",
       "      <td>2137</td>\n",
       "    </tr>\n",
       "    <tr>\n",
       "      <td>Tue</td>\n",
       "      <td>950</td>\n",
       "      <td>687</td>\n",
       "      <td>618</td>\n",
       "      <td>2255</td>\n",
       "    </tr>\n",
       "    <tr>\n",
       "      <td>Wed</td>\n",
       "      <td>977</td>\n",
       "      <td>859</td>\n",
       "      <td>569</td>\n",
       "      <td>2405</td>\n",
       "    </tr>\n",
       "    <tr>\n",
       "      <td>All</td>\n",
       "      <td>4448</td>\n",
       "      <td>3903</td>\n",
       "      <td>3215</td>\n",
       "      <td>11566</td>\n",
       "    </tr>\n",
       "  </tbody>\n",
       "</table>\n",
       "</div>"
      ],
      "text/plain": [
       "Month         Feb   Jan   Mar    All\n",
       "Day of Week                         \n",
       "Fri           665   655   638   1958\n",
       "Mon          1019   785   735   2539\n",
       "Sat            51    49    48    148\n",
       "Sun            30    53    41    124\n",
       "Thu           756   815   566   2137\n",
       "Tue           950   687   618   2255\n",
       "Wed           977   859   569   2405\n",
       "All          4448  3903  3215  11566"
      ]
     },
     "execution_count": 59,
     "metadata": {},
     "output_type": "execute_result"
    }
   ],
   "source": [
    "data1.pivot_table('Calls Offered', 'Day of Week', 'Month', aggfunc=np.sum, margins=True)"
   ]
  },
  {
   "cell_type": "code",
   "execution_count": 63,
   "metadata": {},
   "outputs": [
    {
     "data": {
      "text/html": [
       "<div>\n",
       "<style scoped>\n",
       "    .dataframe tbody tr th:only-of-type {\n",
       "        vertical-align: middle;\n",
       "    }\n",
       "\n",
       "    .dataframe tbody tr th {\n",
       "        vertical-align: top;\n",
       "    }\n",
       "\n",
       "    .dataframe thead th {\n",
       "        text-align: right;\n",
       "    }\n",
       "</style>\n",
       "<table border=\"1\" class=\"dataframe\">\n",
       "  <thead>\n",
       "    <tr style=\"text-align: right;\">\n",
       "      <th>Month</th>\n",
       "      <th>Feb</th>\n",
       "      <th>Jan</th>\n",
       "      <th>Mar</th>\n",
       "      <th>All</th>\n",
       "    </tr>\n",
       "    <tr>\n",
       "      <th>Day of Week</th>\n",
       "      <th></th>\n",
       "      <th></th>\n",
       "      <th></th>\n",
       "      <th></th>\n",
       "    </tr>\n",
       "  </thead>\n",
       "  <tbody>\n",
       "    <tr>\n",
       "      <td>Fri</td>\n",
       "      <td>0%0%0%0%0%0%0%0%0%0%0%0%0%0%0%0%0%0%0%0%0%0%0%...</td>\n",
       "      <td>0%0%0%0%0%0%0%0%0%0%0%0%100%0%0%0%0%0%0%0%0%0%...</td>\n",
       "      <td>0%0%0%0%0%0%0%33%0%0%0%0%0%0%0%0%0%0%0%0%33%0%...</td>\n",
       "      <td>0%0%0%0%0%0%0%0%0%0%0%0%100%0%0%0%0%0%0%0%0%0%...</td>\n",
       "    </tr>\n",
       "    <tr>\n",
       "      <td>Mon</td>\n",
       "      <td>0%0%0%0%0%0%0%0%0%0%0%0%0%0%0%0%0%0%0%0%0%0%0%...</td>\n",
       "      <td>0%0%0%0%0%0%100%0%0%0%0%0%0%0%100%0%0%0%0%0%0%...</td>\n",
       "      <td>0%0%0%0%0%0%0%0%0%0%0%0%0%0%0%0%0%0%0%0%0%0%0%...</td>\n",
       "      <td>0%0%0%0%0%0%100%0%0%0%0%0%0%0%100%0%0%0%0%0%0%...</td>\n",
       "    </tr>\n",
       "    <tr>\n",
       "      <td>Sat</td>\n",
       "      <td>0%0%0%0%0%0%0%100%0%0%0%0%0%0%0%0%100%0%0%0%0%...</td>\n",
       "      <td>0%0%0%0%0%100%0%0%100%0%0%100%0%0%0%0%0%100%0%...</td>\n",
       "      <td>0%0%0%0%0%0%0%0%0%0%0%0%0%0%0%0%0%0%0%0%0%0%0%...</td>\n",
       "      <td>0%0%0%0%0%100%0%0%100%0%0%100%0%0%0%0%0%100%0%...</td>\n",
       "    </tr>\n",
       "    <tr>\n",
       "      <td>Sun</td>\n",
       "      <td>0%0%0%0%0%0%0%0%0%0%0%0%0%0%0%0%0%0%0%0%0%0%0%...</td>\n",
       "      <td>0%0%0%0%0%0%0%0%0%0%0%0%0%0%0%0%0%0%0%0%0%0%0%...</td>\n",
       "      <td>0%0%0%0%0%0%0%0%0%0%0%0%0%0%0%0%0%0%0%0%0%0%0%...</td>\n",
       "      <td>0%0%0%0%0%0%0%0%0%0%0%0%0%0%0%0%0%0%0%0%0%0%0%...</td>\n",
       "    </tr>\n",
       "    <tr>\n",
       "      <td>Thu</td>\n",
       "      <td>0%0%0%0%0%0%0%0%0%0%0%0%0%0%0%0%0%0%0%0%0%0%0%...</td>\n",
       "      <td>0%0%100%0%100%0%0%100%0%0%0%0%0%0%0%0%0%0%0%0%...</td>\n",
       "      <td>0%0%100%0%0%0%0%0%0%0%0%0%0%0%0%0%0%0%0%0%0%0%...</td>\n",
       "      <td>0%0%100%0%100%0%0%100%0%0%0%0%0%0%0%0%0%0%0%0%...</td>\n",
       "    </tr>\n",
       "    <tr>\n",
       "      <td>Tue</td>\n",
       "      <td>0%0%0%0%0%0%0%0%0%0%0%0%0%0%0%0%0%0%0%0%50%0%0...</td>\n",
       "      <td>100%0%0%0%0%0%0%0%0%0%0%0%0%0%0%0%0%0%0%0%0%0%...</td>\n",
       "      <td>0%0%0%0%0%0%0%0%0%0%0%0%0%0%0%0%0%0%0%0%0%0%0%...</td>\n",
       "      <td>100%0%0%0%0%0%0%0%0%0%0%0%0%0%0%0%0%0%0%0%0%0%...</td>\n",
       "    </tr>\n",
       "    <tr>\n",
       "      <td>Wed</td>\n",
       "      <td>0%0%0%0%0%0%0%0%0%0%0%0%0%0%0%0%0%0%0%0%0%0%0%...</td>\n",
       "      <td>0%0%0%0%0%0%0%0%0%0%0%0%0%0%0%0%0%0%0%0%0%0%0%...</td>\n",
       "      <td>0%0%0%0%33%0%0%0%0%0%0%0%0%0%0%0%0%0%0%0%0%0%0...</td>\n",
       "      <td>0%0%0%0%0%0%0%0%0%0%0%0%0%0%0%0%0%0%0%0%0%0%0%...</td>\n",
       "    </tr>\n",
       "    <tr>\n",
       "      <td>All</td>\n",
       "      <td>0%0%0%0%0%0%0%0%0%0%0%0%0%0%0%0%0%0%0%0%0%0%0%...</td>\n",
       "      <td>100%0%0%0%0%0%0%0%0%0%0%0%0%0%0%0%0%0%0%0%0%0%...</td>\n",
       "      <td>0%0%0%0%0%0%0%33%0%0%0%0%0%0%0%0%0%0%0%0%33%0%...</td>\n",
       "      <td>100%0%0%0%0%0%0%0%0%0%0%0%0%0%0%0%0%0%0%0%0%0%...</td>\n",
       "    </tr>\n",
       "  </tbody>\n",
       "</table>\n",
       "</div>"
      ],
      "text/plain": [
       "Month                                                      Feb  \\\n",
       "Day of Week                                                      \n",
       "Fri          0%0%0%0%0%0%0%0%0%0%0%0%0%0%0%0%0%0%0%0%0%0%0%...   \n",
       "Mon          0%0%0%0%0%0%0%0%0%0%0%0%0%0%0%0%0%0%0%0%0%0%0%...   \n",
       "Sat          0%0%0%0%0%0%0%100%0%0%0%0%0%0%0%0%100%0%0%0%0%...   \n",
       "Sun          0%0%0%0%0%0%0%0%0%0%0%0%0%0%0%0%0%0%0%0%0%0%0%...   \n",
       "Thu          0%0%0%0%0%0%0%0%0%0%0%0%0%0%0%0%0%0%0%0%0%0%0%...   \n",
       "Tue          0%0%0%0%0%0%0%0%0%0%0%0%0%0%0%0%0%0%0%0%50%0%0...   \n",
       "Wed          0%0%0%0%0%0%0%0%0%0%0%0%0%0%0%0%0%0%0%0%0%0%0%...   \n",
       "All          0%0%0%0%0%0%0%0%0%0%0%0%0%0%0%0%0%0%0%0%0%0%0%...   \n",
       "\n",
       "Month                                                      Jan  \\\n",
       "Day of Week                                                      \n",
       "Fri          0%0%0%0%0%0%0%0%0%0%0%0%100%0%0%0%0%0%0%0%0%0%...   \n",
       "Mon          0%0%0%0%0%0%100%0%0%0%0%0%0%0%100%0%0%0%0%0%0%...   \n",
       "Sat          0%0%0%0%0%100%0%0%100%0%0%100%0%0%0%0%0%100%0%...   \n",
       "Sun          0%0%0%0%0%0%0%0%0%0%0%0%0%0%0%0%0%0%0%0%0%0%0%...   \n",
       "Thu          0%0%100%0%100%0%0%100%0%0%0%0%0%0%0%0%0%0%0%0%...   \n",
       "Tue          100%0%0%0%0%0%0%0%0%0%0%0%0%0%0%0%0%0%0%0%0%0%...   \n",
       "Wed          0%0%0%0%0%0%0%0%0%0%0%0%0%0%0%0%0%0%0%0%0%0%0%...   \n",
       "All          100%0%0%0%0%0%0%0%0%0%0%0%0%0%0%0%0%0%0%0%0%0%...   \n",
       "\n",
       "Month                                                      Mar  \\\n",
       "Day of Week                                                      \n",
       "Fri          0%0%0%0%0%0%0%33%0%0%0%0%0%0%0%0%0%0%0%0%33%0%...   \n",
       "Mon          0%0%0%0%0%0%0%0%0%0%0%0%0%0%0%0%0%0%0%0%0%0%0%...   \n",
       "Sat          0%0%0%0%0%0%0%0%0%0%0%0%0%0%0%0%0%0%0%0%0%0%0%...   \n",
       "Sun          0%0%0%0%0%0%0%0%0%0%0%0%0%0%0%0%0%0%0%0%0%0%0%...   \n",
       "Thu          0%0%100%0%0%0%0%0%0%0%0%0%0%0%0%0%0%0%0%0%0%0%...   \n",
       "Tue          0%0%0%0%0%0%0%0%0%0%0%0%0%0%0%0%0%0%0%0%0%0%0%...   \n",
       "Wed          0%0%0%0%33%0%0%0%0%0%0%0%0%0%0%0%0%0%0%0%0%0%0...   \n",
       "All          0%0%0%0%0%0%0%33%0%0%0%0%0%0%0%0%0%0%0%0%33%0%...   \n",
       "\n",
       "Month                                                      All  \n",
       "Day of Week                                                     \n",
       "Fri          0%0%0%0%0%0%0%0%0%0%0%0%100%0%0%0%0%0%0%0%0%0%...  \n",
       "Mon          0%0%0%0%0%0%100%0%0%0%0%0%0%0%100%0%0%0%0%0%0%...  \n",
       "Sat          0%0%0%0%0%100%0%0%100%0%0%100%0%0%0%0%0%100%0%...  \n",
       "Sun          0%0%0%0%0%0%0%0%0%0%0%0%0%0%0%0%0%0%0%0%0%0%0%...  \n",
       "Thu          0%0%100%0%100%0%0%100%0%0%0%0%0%0%0%0%0%0%0%0%...  \n",
       "Tue          100%0%0%0%0%0%0%0%0%0%0%0%0%0%0%0%0%0%0%0%0%0%...  \n",
       "Wed          0%0%0%0%0%0%0%0%0%0%0%0%0%0%0%0%0%0%0%0%0%0%0%...  \n",
       "All          100%0%0%0%0%0%0%0%0%0%0%0%0%0%0%0%0%0%0%0%0%0%...  "
      ]
     },
     "execution_count": 63,
     "metadata": {},
     "output_type": "execute_result"
    }
   ],
   "source": [
    "data1.pivot_table('Abandoned', 'Day of Week', 'Month', aggfunc=np.sum, margins=True)"
   ]
  },
  {
   "cell_type": "code",
   "execution_count": null,
   "metadata": {},
   "outputs": [],
   "source": []
  },
  {
   "cell_type": "code",
   "execution_count": null,
   "metadata": {},
   "outputs": [],
   "source": [
    "#create 2 df's: one for service hours, the other for non-service hours\n",
    "Serv_Hrs = data['Day of Week', 'Interval', 'Date', 'Month',  |]\n",
    "#demo_vars = credit1[['AGE', 'MARRIAGE', 'EDUCATION', 'SEX', 'DEFAULT']]"
   ]
  }
 ],
 "metadata": {
  "kernelspec": {
   "display_name": "Python 3",
   "language": "python",
   "name": "python3"
  },
  "language_info": {
   "codemirror_mode": {
    "name": "ipython",
    "version": 3
   },
   "file_extension": ".py",
   "mimetype": "text/x-python",
   "name": "python",
   "nbconvert_exporter": "python",
   "pygments_lexer": "ipython3",
   "version": "3.7.3"
  }
 },
 "nbformat": 4,
 "nbformat_minor": 2
}
