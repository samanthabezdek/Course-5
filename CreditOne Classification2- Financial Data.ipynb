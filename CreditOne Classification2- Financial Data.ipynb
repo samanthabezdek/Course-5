{
 "cells": [
  {
   "cell_type": "code",
   "execution_count": 1,
   "metadata": {},
   "outputs": [],
   "source": [
    "#IMPORTS:\n",
    "import pandas as pd\n",
    "import scipy as sc\n",
    "import numpy as np\n",
    "import matplotlib.pyplot as plt\n",
    "import seaborn as sns\n",
    "import math \n",
    "from sklearn.metrics import mean_squared_error\n",
    "from sklearn.metrics import r2_score\n",
    "import matplotlib.colors as mcolors\n",
    "from sklearn import preprocessing\n",
    "from math import sqrt\n",
    "from sklearn.metrics import r2_score\n",
    "\n",
    "#model Metrics\n",
    "from sklearn.metrics import mean_squared_error\n",
    "from sklearn.metrics import r2_score\n",
    "from sklearn.model_selection import cross_val_score\n",
    "\n",
    "#cross validation\n",
    "from sklearn.model_selection import train_test_split\n",
    "\n",
    "#classifiers\n",
    "from sklearn.tree import DecisionTreeClassifier\n",
    "from sklearn.neighbors import KNeighborsClassifier\n",
    "from sklearn.linear_model import LogisticRegression"
   ]
  },
  {
   "cell_type": "code",
   "execution_count": 3,
   "metadata": {},
   "outputs": [],
   "source": [
    "#stored datasets\n",
    "%store -r fin_vars7\n",
    "%store -r scaled_feat_fin_vars"
   ]
  },
  {
   "cell_type": "code",
   "execution_count": 5,
   "metadata": {},
   "outputs": [
    {
     "data": {
      "text/html": [
       "<div>\n",
       "<style scoped>\n",
       "    .dataframe tbody tr th:only-of-type {\n",
       "        vertical-align: middle;\n",
       "    }\n",
       "\n",
       "    .dataframe tbody tr th {\n",
       "        vertical-align: top;\n",
       "    }\n",
       "\n",
       "    .dataframe thead th {\n",
       "        text-align: right;\n",
       "    }\n",
       "</style>\n",
       "<table border=\"1\" class=\"dataframe\">\n",
       "  <thead>\n",
       "    <tr style=\"text-align: right;\">\n",
       "      <th></th>\n",
       "      <th>LIMIT_BAL</th>\n",
       "      <th>SEP_P0</th>\n",
       "      <th>AUG_P2</th>\n",
       "      <th>JUL_P3</th>\n",
       "      <th>JUN_P4</th>\n",
       "      <th>MAY_P5</th>\n",
       "      <th>APR_P6</th>\n",
       "      <th>BILLAMT_SEP</th>\n",
       "      <th>BILLAMT_AUG</th>\n",
       "      <th>BILLAMT_JUL</th>\n",
       "      <th>...</th>\n",
       "      <th>BILLAMT_MAY</th>\n",
       "      <th>BILLAMT_APR</th>\n",
       "      <th>PAYAMT_SEP</th>\n",
       "      <th>PAYAMT_AUG</th>\n",
       "      <th>PAYAMT_JUL</th>\n",
       "      <th>PAYAMT_JUN</th>\n",
       "      <th>PAYAMT_MAY</th>\n",
       "      <th>PAYAMT_JUN</th>\n",
       "      <th>PAYAMT_MAY</th>\n",
       "      <th>PAYAMT_APR</th>\n",
       "    </tr>\n",
       "  </thead>\n",
       "  <tbody>\n",
       "    <tr>\n",
       "      <td>0</td>\n",
       "      <td>-1.122109</td>\n",
       "      <td>1.918712</td>\n",
       "      <td>1.878707</td>\n",
       "      <td>-0.716332</td>\n",
       "      <td>-0.687567</td>\n",
       "      <td>-1.606841</td>\n",
       "      <td>-1.541377</td>\n",
       "      <td>-0.727493</td>\n",
       "      <td>-0.731803</td>\n",
       "      <td>-0.771106</td>\n",
       "      <td>...</td>\n",
       "      <td>-0.748119</td>\n",
       "      <td>-0.730187</td>\n",
       "      <td>-0.654247</td>\n",
       "      <td>-0.480326</td>\n",
       "      <td>-0.569704</td>\n",
       "      <td>-0.553255</td>\n",
       "      <td>-0.553255</td>\n",
       "      <td>-0.571994</td>\n",
       "      <td>-0.571994</td>\n",
       "      <td>-0.526674</td>\n",
       "    </tr>\n",
       "    <tr>\n",
       "      <td>1</td>\n",
       "      <td>-0.276941</td>\n",
       "      <td>-0.910476</td>\n",
       "      <td>1.878707</td>\n",
       "      <td>0.163404</td>\n",
       "      <td>0.226659</td>\n",
       "      <td>0.280378</td>\n",
       "      <td>2.133879</td>\n",
       "      <td>-0.751432</td>\n",
       "      <td>-0.759664</td>\n",
       "      <td>-0.728867</td>\n",
       "      <td>...</td>\n",
       "      <td>-0.665617</td>\n",
       "      <td>-0.651115</td>\n",
       "      <td>-0.654247</td>\n",
       "      <td>-0.432751</td>\n",
       "      <td>-0.400531</td>\n",
       "      <td>-0.371094</td>\n",
       "      <td>-0.371094</td>\n",
       "      <td>-0.571994</td>\n",
       "      <td>-0.571994</td>\n",
       "      <td>-0.179752</td>\n",
       "    </tr>\n",
       "    <tr>\n",
       "      <td>2</td>\n",
       "      <td>-0.530492</td>\n",
       "      <td>0.032587</td>\n",
       "      <td>0.129175</td>\n",
       "      <td>0.163404</td>\n",
       "      <td>0.226659</td>\n",
       "      <td>0.280378</td>\n",
       "      <td>0.296251</td>\n",
       "      <td>-0.234986</td>\n",
       "      <td>-0.510756</td>\n",
       "      <td>-0.498340</td>\n",
       "      <td>...</td>\n",
       "      <td>-0.391178</td>\n",
       "      <td>-0.353155</td>\n",
       "      <td>-0.392126</td>\n",
       "      <td>-0.356264</td>\n",
       "      <td>-0.400531</td>\n",
       "      <td>-0.371094</td>\n",
       "      <td>-0.371094</td>\n",
       "      <td>-0.380295</td>\n",
       "      <td>-0.380295</td>\n",
       "      <td>0.340631</td>\n",
       "    </tr>\n",
       "    <tr>\n",
       "      <td>3</td>\n",
       "      <td>-0.868559</td>\n",
       "      <td>0.032587</td>\n",
       "      <td>0.129175</td>\n",
       "      <td>0.163404</td>\n",
       "      <td>0.226659</td>\n",
       "      <td>0.280378</td>\n",
       "      <td>0.296251</td>\n",
       "      <td>0.110213</td>\n",
       "      <td>0.181339</td>\n",
       "      <td>0.258964</td>\n",
       "      <td>...</td>\n",
       "      <td>-0.056612</td>\n",
       "      <td>-0.013731</td>\n",
       "      <td>-0.308897</td>\n",
       "      <td>-0.276871</td>\n",
       "      <td>-0.366696</td>\n",
       "      <td>-0.352878</td>\n",
       "      <td>-0.352878</td>\n",
       "      <td>-0.367068</td>\n",
       "      <td>-0.367068</td>\n",
       "      <td>-0.353213</td>\n",
       "    </tr>\n",
       "    <tr>\n",
       "      <td>4</td>\n",
       "      <td>-0.868559</td>\n",
       "      <td>-0.910476</td>\n",
       "      <td>0.129175</td>\n",
       "      <td>-0.716332</td>\n",
       "      <td>0.226659</td>\n",
       "      <td>0.280378</td>\n",
       "      <td>0.296251</td>\n",
       "      <td>-0.636016</td>\n",
       "      <td>-0.679844</td>\n",
       "      <td>-0.026223</td>\n",
       "      <td>...</td>\n",
       "      <td>-0.290935</td>\n",
       "      <td>-0.266298</td>\n",
       "      <td>-0.308897</td>\n",
       "      <td>5.025490</td>\n",
       "      <td>1.122027</td>\n",
       "      <td>1.086189</td>\n",
       "      <td>1.086189</td>\n",
       "      <td>-0.439913</td>\n",
       "      <td>-0.439913</td>\n",
       "      <td>-0.408894</td>\n",
       "    </tr>\n",
       "  </tbody>\n",
       "</table>\n",
       "<p>5 rows × 21 columns</p>\n",
       "</div>"
      ],
      "text/plain": [
       "   LIMIT_BAL    SEP_P0    AUG_P2    JUL_P3    JUN_P4    MAY_P5    APR_P6  \\\n",
       "0  -1.122109  1.918712  1.878707 -0.716332 -0.687567 -1.606841 -1.541377   \n",
       "1  -0.276941 -0.910476  1.878707  0.163404  0.226659  0.280378  2.133879   \n",
       "2  -0.530492  0.032587  0.129175  0.163404  0.226659  0.280378  0.296251   \n",
       "3  -0.868559  0.032587  0.129175  0.163404  0.226659  0.280378  0.296251   \n",
       "4  -0.868559 -0.910476  0.129175 -0.716332  0.226659  0.280378  0.296251   \n",
       "\n",
       "   BILLAMT_SEP  BILLAMT_AUG  BILLAMT_JUL  ...  BILLAMT_MAY  BILLAMT_APR  \\\n",
       "0    -0.727493    -0.731803    -0.771106  ...    -0.748119    -0.730187   \n",
       "1    -0.751432    -0.759664    -0.728867  ...    -0.665617    -0.651115   \n",
       "2    -0.234986    -0.510756    -0.498340  ...    -0.391178    -0.353155   \n",
       "3     0.110213     0.181339     0.258964  ...    -0.056612    -0.013731   \n",
       "4    -0.636016    -0.679844    -0.026223  ...    -0.290935    -0.266298   \n",
       "\n",
       "   PAYAMT_SEP  PAYAMT_AUG  PAYAMT_JUL  PAYAMT_JUN  PAYAMT_MAY  PAYAMT_JUN  \\\n",
       "0   -0.654247   -0.480326   -0.569704   -0.553255   -0.553255   -0.571994   \n",
       "1   -0.654247   -0.432751   -0.400531   -0.371094   -0.371094   -0.571994   \n",
       "2   -0.392126   -0.356264   -0.400531   -0.371094   -0.371094   -0.380295   \n",
       "3   -0.308897   -0.276871   -0.366696   -0.352878   -0.352878   -0.367068   \n",
       "4   -0.308897    5.025490    1.122027    1.086189    1.086189   -0.439913   \n",
       "\n",
       "   PAYAMT_MAY  PAYAMT_APR  \n",
       "0   -0.571994   -0.526674  \n",
       "1   -0.571994   -0.179752  \n",
       "2   -0.380295    0.340631  \n",
       "3   -0.367068   -0.353213  \n",
       "4   -0.439913   -0.408894  \n",
       "\n",
       "[5 rows x 21 columns]"
      ]
     },
     "execution_count": 5,
     "metadata": {},
     "output_type": "execute_result"
    }
   ],
   "source": [
    "scaled_feat_fin_vars.head()"
   ]
  },
  {
   "cell_type": "code",
   "execution_count": 9,
   "metadata": {},
   "outputs": [],
   "source": [
    "scaled_int = scaled_feat_fin_vars.copy()\n",
    "scaled_int = scaled_int.astype(\"int\")"
   ]
  },
  {
   "cell_type": "code",
   "execution_count": 10,
   "metadata": {},
   "outputs": [
    {
     "name": "stdout",
     "output_type": "stream",
     "text": [
      "Summary of Financial feature sample\n",
      "<class 'pandas.core.frame.DataFrame'>\n",
      "Int64Index: 26133 entries, 0 to 29999\n",
      "Data columns (total 21 columns):\n",
      "LIMIT_BAL      26133 non-null float64\n",
      "SEP_P0         26133 non-null float64\n",
      "AUG_P2         26133 non-null float64\n",
      "JUL_P3         26133 non-null float64\n",
      "JUN_P4         26133 non-null float64\n",
      "MAY_P5         26133 non-null float64\n",
      "APR_P6         26133 non-null float64\n",
      "BILLAMT_SEP    26133 non-null float64\n",
      "BILLAMT_AUG    26133 non-null float64\n",
      "BILLAMT_JUL    26133 non-null float64\n",
      "BILLAMT_JUN    26133 non-null float64\n",
      "BILLAMT_MAY    26133 non-null float64\n",
      "BILLAMT_APR    26133 non-null float64\n",
      "PAYAMT_SEP     26133 non-null float64\n",
      "PAYAMT_AUG     26133 non-null float64\n",
      "PAYAMT_JUL     26133 non-null float64\n",
      "PAYAMT_JUN     26133 non-null float64\n",
      "PAYAMT_MAY     26133 non-null float64\n",
      "PAYAMT_JUN     26133 non-null float64\n",
      "PAYAMT_MAY     26133 non-null float64\n",
      "PAYAMT_APR     26133 non-null float64\n",
      "dtypes: float64(21)\n",
      "memory usage: 4.4 MB\n"
     ]
    }
   ],
   "source": [
    "fin_features = scaled_feat_fin_vars.iloc[:,0:21]\n",
    "print('Summary of Financial feature sample')\n",
    "fin_features.info()"
   ]
  },
  {
   "cell_type": "code",
   "execution_count": 11,
   "metadata": {},
   "outputs": [
    {
     "name": "stdout",
     "output_type": "stream",
     "text": [
      "0        1\n",
      "1        1\n",
      "2        0\n",
      "3        0\n",
      "4        0\n",
      "        ..\n",
      "29992    0\n",
      "29994    1\n",
      "29995    0\n",
      "29996    0\n",
      "29999    1\n",
      "Name: DEFAULT, Length: 26133, dtype: int32\n"
     ]
    }
   ],
   "source": [
    "#dependent var\n",
    "fin_DV= fin_vars7['DEFAULT']\n",
    "print(fin_DV)"
   ]
  },
  {
   "cell_type": "code",
   "execution_count": 12,
   "metadata": {},
   "outputs": [
    {
     "name": "stdout",
     "output_type": "stream",
     "text": [
      "<class 'pandas.core.frame.DataFrame'>\n",
      "Int64Index: 18293 entries, 0 to 20864\n",
      "Data columns (total 21 columns):\n",
      "LIMIT_BAL      18293 non-null float64\n",
      "SEP_P0         18293 non-null float64\n",
      "AUG_P2         18293 non-null float64\n",
      "JUL_P3         18293 non-null float64\n",
      "JUN_P4         18293 non-null float64\n",
      "MAY_P5         18293 non-null float64\n",
      "APR_P6         18293 non-null float64\n",
      "BILLAMT_SEP    18293 non-null float64\n",
      "BILLAMT_AUG    18293 non-null float64\n",
      "BILLAMT_JUL    18293 non-null float64\n",
      "BILLAMT_JUN    18293 non-null float64\n",
      "BILLAMT_MAY    18293 non-null float64\n",
      "BILLAMT_APR    18293 non-null float64\n",
      "PAYAMT_SEP     18293 non-null float64\n",
      "PAYAMT_AUG     18293 non-null float64\n",
      "PAYAMT_JUL     18293 non-null float64\n",
      "PAYAMT_JUN     18293 non-null float64\n",
      "PAYAMT_MAY     18293 non-null float64\n",
      "PAYAMT_JUN     18293 non-null float64\n",
      "PAYAMT_MAY     18293 non-null float64\n",
      "PAYAMT_APR     18293 non-null float64\n",
      "dtypes: float64(21)\n",
      "memory usage: 3.1 MB\n"
     ]
    }
   ],
   "source": [
    "#setup training set\n",
    "x_fin_train = (fin_features[:18293])\n",
    "#70% of 26,133 obs\n",
    "x_fin_train.info()"
   ]
  },
  {
   "cell_type": "code",
   "execution_count": 13,
   "metadata": {},
   "outputs": [
    {
     "name": "stdout",
     "output_type": "stream",
     "text": [
      "The number of observations in the Y training set is: 18293\n"
     ]
    },
    {
     "data": {
      "text/plain": [
       "0    1\n",
       "1    1\n",
       "2    0\n",
       "3    0\n",
       "4    0\n",
       "Name: DEFAULT, dtype: int32"
      ]
     },
     "execution_count": 13,
     "metadata": {},
     "output_type": "execute_result"
    }
   ],
   "source": [
    "#dependent var training set\n",
    "y_fin_train = fin_DV[:18293]\n",
    "y_fin_train_count = len(y_fin_train.index)\n",
    "print('The number of observations in the Y training set is:', str(y_fin_train_count))\n",
    "y_fin_train.head()"
   ]
  },
  {
   "cell_type": "code",
   "execution_count": 14,
   "metadata": {},
   "outputs": [
    {
     "name": "stdout",
     "output_type": "stream",
     "text": [
      "The number of observations in the feature testing set is: 7840\n",
      "       LIMIT_BAL    SEP_P0    AUG_P2    JUL_P3    JUN_P4    MAY_P5    APR_P6  \\\n",
      "20865  -1.122109 -0.910476 -0.745591  0.163404  0.226659  0.280378  0.296251   \n",
      "20866  -0.784042  0.975650  1.878707  1.922875  2.055111  2.167598  2.133879   \n",
      "20867   0.145643  0.975650  1.878707  1.922875  2.055111  2.167598  0.296251   \n",
      "20868  -0.868559  0.975650  1.878707  0.163404  0.226659  2.167598  0.296251   \n",
      "20869   0.737260  0.032587  0.129175  0.163404  0.226659  0.280378  0.296251   \n",
      "\n",
      "       BILLAMT_SEP  BILLAMT_AUG  BILLAMT_JUL  ...  BILLAMT_MAY  BILLAMT_APR  \\\n",
      "20865    -0.779066    -0.555026    -0.582035  ...    -0.494669    -0.477208   \n",
      "20866     0.128065     0.213509     0.247646  ...     0.516505     0.530347   \n",
      "20867    -0.455103    -0.405503    -0.390611  ...    -0.284344    -0.641828   \n",
      "20868    -0.112141    -0.092780    -0.020161  ...     0.145332     0.203435   \n",
      "20869     3.673705     3.745263     4.103023  ...     3.779047     3.962923   \n",
      "\n",
      "       PAYAMT_SEP  PAYAMT_AUG  PAYAMT_JUL  PAYAMT_JUN  PAYAMT_MAY  PAYAMT_JUN  \\\n",
      "20865    1.390051   -0.392060   -0.400531    0.357547    0.357547   -0.531929   \n",
      "20866   -0.136222   -0.585724    0.276162   -0.170718   -0.170718   -0.571994   \n",
      "20867   -0.326164   -0.585724   -0.231358   -0.553255   -0.553255   -0.476144   \n",
      "20868   -0.654247   -0.279778   -0.096019   -0.553255   -0.553255   -0.284445   \n",
      "20869    0.761687    0.944009    0.783681    1.268349    1.268349    0.679992   \n",
      "\n",
      "       PAYAMT_MAY  PAYAMT_APR  \n",
      "20865   -0.531929   -0.526674  \n",
      "20866   -0.571994    0.271246  \n",
      "20867   -0.476144   -0.439944  \n",
      "20868   -0.284445   -0.093022  \n",
      "20869    0.679992    0.434820  \n",
      "\n",
      "[5 rows x 21 columns]\n"
     ]
    }
   ],
   "source": [
    "#testing set\n",
    "x_fin_test = fin_features[-7840:]\n",
    "x_fin_test_count = len(x_fin_test.index)\n",
    "print('The number of observations in the feature testing set is:',str(x_fin_test_count))\n",
    "print(x_fin_test.head())"
   ]
  },
  {
   "cell_type": "code",
   "execution_count": 15,
   "metadata": {},
   "outputs": [
    {
     "name": "stdout",
     "output_type": "stream",
     "text": [
      "The number of observations in the Y testing set is: 7840\n"
     ]
    },
    {
     "data": {
      "text/plain": [
       "20865    0\n",
       "20866    0\n",
       "20867    0\n",
       "20868    0\n",
       "20869    0\n",
       "Name: DEFAULT, dtype: int32"
      ]
     },
     "execution_count": 15,
     "metadata": {},
     "output_type": "execute_result"
    }
   ],
   "source": [
    "y_fin_test = fin_DV[-7840:]\n",
    "y_fin_test_count = len(y_fin_test.index)\n",
    "print('The number of observations in the Y testing set is:', str(y_fin_test_count))\n",
    "y_fin_test.head()"
   ]
  },
  {
   "cell_type": "code",
   "execution_count": 16,
   "metadata": {},
   "outputs": [],
   "source": [
    "x_fin_train, x_fin_test, y_fin_train, y_fin_test = train_test_split(x_fin_train, y_fin_train)"
   ]
  },
  {
   "cell_type": "code",
   "execution_count": 17,
   "metadata": {},
   "outputs": [
    {
     "data": {
      "text/plain": [
       "((13719, 21), (4574, 21))"
      ]
     },
     "execution_count": 17,
     "metadata": {},
     "output_type": "execute_result"
    }
   ],
   "source": [
    "x_fin_train.shape, x_fin_test.shape"
   ]
  },
  {
   "cell_type": "code",
   "execution_count": 18,
   "metadata": {},
   "outputs": [
    {
     "data": {
      "text/plain": [
       "((10289, 21), (3430, 21))"
      ]
     },
     "execution_count": 18,
     "metadata": {},
     "output_type": "execute_result"
    }
   ],
   "source": [
    "x_fin_train, x_fin_test, y_fin_train, y_fin_test = train_test_split(x_fin_train, y_fin_train)\n",
    "x_fin_train.shape, x_fin_test.shape"
   ]
  },
  {
   "cell_type": "code",
   "execution_count": 19,
   "metadata": {},
   "outputs": [],
   "source": [
    "#tuning parameters and model definition\n",
    "#out of the box tries\n",
    "fin_modelDTC = DecisionTreeClassifier()\n",
    "fin_modelLR = LogisticRegression()\n",
    "fin_modelKN = KNeighborsClassifier()"
   ]
  },
  {
   "cell_type": "code",
   "execution_count": 20,
   "metadata": {},
   "outputs": [
    {
     "name": "stderr",
     "output_type": "stream",
     "text": [
      "C:\\Users\\Samantha\\Anaconda3\\lib\\site-packages\\sklearn\\linear_model\\logistic.py:432: FutureWarning: Default solver will be changed to 'lbfgs' in 0.22. Specify a solver to silence this warning.\n",
      "  FutureWarning)\n"
     ]
    },
    {
     "data": {
      "text/plain": [
       "LogisticRegression(C=1.0, class_weight=None, dual=False, fit_intercept=True,\n",
       "                   intercept_scaling=1, l1_ratio=None, max_iter=100,\n",
       "                   multi_class='warn', n_jobs=None, penalty='l2',\n",
       "                   random_state=None, solver='warn', tol=0.0001, verbose=0,\n",
       "                   warm_start=False)"
      ]
     },
     "execution_count": 20,
     "metadata": {},
     "output_type": "execute_result"
    }
   ],
   "source": [
    "fin_modelKN.fit(x_fin_train, y_fin_train)\n",
    "fin_modelDTC.fit(x_fin_train, y_fin_train)\n",
    "fin_modelLR.fit(x_fin_train, y_fin_train)"
   ]
  },
  {
   "cell_type": "code",
   "execution_count": 21,
   "metadata": {},
   "outputs": [
    {
     "name": "stderr",
     "output_type": "stream",
     "text": [
      "C:\\Users\\Samantha\\Anaconda3\\lib\\site-packages\\sklearn\\model_selection\\_split.py:1978: FutureWarning: The default value of cv will change from 3 to 5 in version 0.22. Specify it explicitly to silence this warning.\n",
      "  warnings.warn(CV_WARNING, FutureWarning)\n"
     ]
    },
    {
     "name": "stdout",
     "output_type": "stream",
     "text": [
      "[0.78571429 0.78396501 0.77806941]\n"
     ]
    },
    {
     "data": {
      "text/plain": [
       "0.8371075906307708"
      ]
     },
     "execution_count": 21,
     "metadata": {},
     "output_type": "execute_result"
    }
   ],
   "source": [
    "print(cross_val_score(fin_modelKN, x_fin_train, y_fin_train))\n",
    "fin_modelKN.score(x_fin_train, y_fin_train)"
   ]
  },
  {
   "cell_type": "code",
   "execution_count": 22,
   "metadata": {},
   "outputs": [
    {
     "name": "stderr",
     "output_type": "stream",
     "text": [
      "C:\\Users\\Samantha\\Anaconda3\\lib\\site-packages\\sklearn\\model_selection\\_split.py:1978: FutureWarning: The default value of cv will change from 3 to 5 in version 0.22. Specify it explicitly to silence this warning.\n",
      "  warnings.warn(CV_WARNING, FutureWarning)\n"
     ]
    },
    {
     "name": "stdout",
     "output_type": "stream",
     "text": [
      "[0.71982507 0.71020408 0.70312044]\n"
     ]
    },
    {
     "data": {
      "text/plain": [
       "0.9928078530469433"
      ]
     },
     "execution_count": 22,
     "metadata": {},
     "output_type": "execute_result"
    }
   ],
   "source": [
    "print(cross_val_score(fin_modelDTC, x_fin_train, y_fin_train))\n",
    "fin_modelDTC.score(x_fin_train, y_fin_train)"
   ]
  },
  {
   "cell_type": "code",
   "execution_count": 23,
   "metadata": {},
   "outputs": [
    {
     "name": "stderr",
     "output_type": "stream",
     "text": [
      "C:\\Users\\Samantha\\Anaconda3\\lib\\site-packages\\sklearn\\model_selection\\_split.py:1978: FutureWarning: The default value of cv will change from 3 to 5 in version 0.22. Specify it explicitly to silence this warning.\n",
      "  warnings.warn(CV_WARNING, FutureWarning)\n",
      "C:\\Users\\Samantha\\Anaconda3\\lib\\site-packages\\sklearn\\linear_model\\logistic.py:432: FutureWarning: Default solver will be changed to 'lbfgs' in 0.22. Specify a solver to silence this warning.\n",
      "  FutureWarning)\n",
      "C:\\Users\\Samantha\\Anaconda3\\lib\\site-packages\\sklearn\\linear_model\\logistic.py:432: FutureWarning: Default solver will be changed to 'lbfgs' in 0.22. Specify a solver to silence this warning.\n",
      "  FutureWarning)\n",
      "C:\\Users\\Samantha\\Anaconda3\\lib\\site-packages\\sklearn\\linear_model\\logistic.py:432: FutureWarning: Default solver will be changed to 'lbfgs' in 0.22. Specify a solver to silence this warning.\n",
      "  FutureWarning)\n"
     ]
    },
    {
     "name": "stdout",
     "output_type": "stream",
     "text": [
      "[0.803207   0.80262391 0.80373287]\n"
     ]
    },
    {
     "data": {
      "text/plain": [
       "0.8039653999416853"
      ]
     },
     "execution_count": 23,
     "metadata": {},
     "output_type": "execute_result"
    }
   ],
   "source": [
    "print(cross_val_score(fin_modelLR, x_fin_train, y_fin_train))\n",
    "fin_modelLR.score(x_fin_train, y_fin_train)"
   ]
  },
  {
   "cell_type": "code",
   "execution_count": 24,
   "metadata": {},
   "outputs": [
    {
     "name": "stdout",
     "output_type": "stream",
     "text": [
      "R Squared: -0.610\n",
      "RMSE: 0.534\n"
     ]
    }
   ],
   "source": [
    "predictions_fin = fin_modelDTC.predict(x_fin_test)\n",
    "rmse_fin = sqrt(mean_squared_error(y_fin_test, predictions_fin))\n",
    "predRsquared_fin = r2_score(y_fin_test, predictions_fin)\n",
    "print('R Squared: %.3f' % predRsquared_fin)\n",
    "print('RMSE: %.3f' %rmse_fin)"
   ]
  },
  {
   "cell_type": "code",
   "execution_count": 25,
   "metadata": {},
   "outputs": [
    {
     "name": "stdout",
     "output_type": "stream",
     "text": [
      "R Squared: -0.147\n",
      "RMSE: 0.450\n"
     ]
    }
   ],
   "source": [
    "predictions_finLR = fin_modelLR.predict(x_fin_test)\n",
    "rmse_finLR = sqrt(mean_squared_error(y_fin_test, predictions_finLR))\n",
    "predRsquared_finLR = r2_score(y_fin_test, predictions_finLR)\n",
    "print('R Squared: %.3f' % predRsquared_finLR)\n",
    "print('RMSE: %.3f' %rmse_finLR)"
   ]
  },
  {
   "cell_type": "code",
   "execution_count": 26,
   "metadata": {},
   "outputs": [
    {
     "data": {
      "text/html": [
       "<div>\n",
       "<style scoped>\n",
       "    .dataframe tbody tr th:only-of-type {\n",
       "        vertical-align: middle;\n",
       "    }\n",
       "\n",
       "    .dataframe tbody tr th {\n",
       "        vertical-align: top;\n",
       "    }\n",
       "\n",
       "    .dataframe thead th {\n",
       "        text-align: right;\n",
       "    }\n",
       "</style>\n",
       "<table border=\"1\" class=\"dataframe\">\n",
       "  <thead>\n",
       "    <tr style=\"text-align: right;\">\n",
       "      <th></th>\n",
       "      <th>Predicted Negative</th>\n",
       "      <th>Predicted Positive</th>\n",
       "    </tr>\n",
       "  </thead>\n",
       "  <tbody>\n",
       "    <tr>\n",
       "      <td>Actual Negative</td>\n",
       "      <td>2535</td>\n",
       "      <td>107</td>\n",
       "    </tr>\n",
       "    <tr>\n",
       "      <td>Actual Positive</td>\n",
       "      <td>589</td>\n",
       "      <td>199</td>\n",
       "    </tr>\n",
       "  </tbody>\n",
       "</table>\n",
       "</div>"
      ],
      "text/plain": [
       "                 Predicted Negative  Predicted Positive\n",
       "Actual Negative                2535                 107\n",
       "Actual Positive                 589                 199"
      ]
     },
     "execution_count": 26,
     "metadata": {},
     "output_type": "execute_result"
    }
   ],
   "source": [
    "#should not be using R2 for classification metrics\n",
    "#importing the metrics package from sklearn lib\n",
    "from sklearn import metrics\n",
    "\n",
    "cm = metrics.confusion_matrix(y_fin_test, predictions_finLR)\n",
    "cm_df = pd.DataFrame(cm,\n",
    "                    columns = ['Predicted Negative', 'Predicted Positive'],\n",
    "                    index = ['Actual Negative', 'Actual Positive'])\n",
    "cm_df"
   ]
  },
  {
   "cell_type": "code",
   "execution_count": 28,
   "metadata": {},
   "outputs": [
    {
     "data": {
      "text/html": [
       "<div>\n",
       "<style scoped>\n",
       "    .dataframe tbody tr th:only-of-type {\n",
       "        vertical-align: middle;\n",
       "    }\n",
       "\n",
       "    .dataframe tbody tr th {\n",
       "        vertical-align: top;\n",
       "    }\n",
       "\n",
       "    .dataframe thead th {\n",
       "        text-align: right;\n",
       "    }\n",
       "</style>\n",
       "<table border=\"1\" class=\"dataframe\">\n",
       "  <thead>\n",
       "    <tr style=\"text-align: right;\">\n",
       "      <th></th>\n",
       "      <th>Predicted Negative</th>\n",
       "      <th>Predicted Positive</th>\n",
       "    </tr>\n",
       "  </thead>\n",
       "  <tbody>\n",
       "    <tr>\n",
       "      <td>Actual Negative</td>\n",
       "      <td>2135</td>\n",
       "      <td>507</td>\n",
       "    </tr>\n",
       "    <tr>\n",
       "      <td>Actual Positive</td>\n",
       "      <td>470</td>\n",
       "      <td>318</td>\n",
       "    </tr>\n",
       "  </tbody>\n",
       "</table>\n",
       "</div>"
      ],
      "text/plain": [
       "                 Predicted Negative  Predicted Positive\n",
       "Actual Negative                2135                 507\n",
       "Actual Positive                 470                 318"
      ]
     },
     "execution_count": 28,
     "metadata": {},
     "output_type": "execute_result"
    }
   ],
   "source": [
    "cmDTC= metrics.confusion_matrix(y_fin_test, predictions_fin)\n",
    "cm_dfDTC= pd.DataFrame(cmDTC,\n",
    "                    columns = ['Predicted Negative', 'Predicted Positive'],\n",
    "                    index = ['Actual Negative', 'Actual Positive'])\n",
    "cm_dfDTC"
   ]
  },
  {
   "cell_type": "code",
   "execution_count": 58,
   "metadata": {},
   "outputs": [],
   "source": [
    "#creating a function to report confusion matrics\n",
    "#save confusion matrix and slice into 4 pieces\n",
    "def confusion_metrics (conf_matrix):\n",
    "   TP = conf_matrix[1][1]\n",
    "   TN = conf_matrix[0][0]\n",
    "   FP = conf_matrix[0][1]\n",
    "   FN = conf_matrix[1][0]\n",
    "\n",
    "   print('True Positives:', TP)\n",
    "   print('True Negatives:', TN)\n",
    "   print('False Positives:', FP)\n",
    "   print('False Negatives:', FN)\n",
    "\n",
    "#calculate accuracy\n",
    "   conf_accuracy = (float (TP+TN) /float(TP + TN + FP + FN))\n",
    "\n",
    "#calculate mis-classifcation\n",
    "   conf_misclassification = 1 - conf_accuracy\n",
    "\n",
    "#calculate the sensitivity\n",
    "   conf_sensitivity = (TP /float(TP + FN))\n",
    "\n",
    "#calculate the specificity\n",
    "   conf_specificity = (TN/float(TN + FP))\n",
    "\n",
    "#calculate precision\n",
    "   conf_precision = (TN/ float(TN + FP))\n",
    "\n",
    "   print('-'*50)\n",
    "   print(f'Accuracy: {round(conf_accuracy,2)}')\n",
    "   print(f'Mis-Classification: {round(conf_misclassification,2)}')\n",
    "   print(f'Sensitivity: {round(conf_sensitivty,2)}')\n",
    "   print(f'Specificity: {round(conf_specificity,2)}')\n",
    "   print(f'Precision: {round(conf_precision,2)}')"
   ]
  },
  {
   "cell_type": "code",
   "execution_count": 62,
   "metadata": {},
   "outputs": [],
   "source": [
    "#creating a function to report confusion matrics\n",
    "#save confusion matrix and slice into 4 pieces\n",
    "def confusion_metrics (cm_df):\n",
    "   TP = cm_df[1][1]\n",
    "   TN = cm_df[0][0]\n",
    "   FP = cm_df[0][1]\n",
    "   FN = cm_df[1][0]\n",
    "\n",
    "   print('True Positives:', TP)\n",
    "   print('True Negatives:', TN)\n",
    "   print('False Positives:', FP)\n",
    "   print('False Negatives:', FN)\n",
    "\n",
    "#calculate accuracy\n",
    "   conf_accuracy = (float (TP+TN) /float(TP + TN + FP + FN))\n",
    "\n",
    "#calculate mis-classifcation\n",
    "   conf_misclassification = 1 - conf_accuracy\n",
    "\n",
    "#calculate the sensitivity\n",
    "   conf_sensitivity = (TP /float(TP + FN))\n",
    "\n",
    "#calculate the specificity\n",
    "   conf_specificity = (TN/float(TN + FP))\n",
    "\n",
    "#calculate precision\n",
    "   conf_precision = (TN/ float(TN + FP))\n",
    "\n",
    "   print('-'*50)\n",
    "   print(f'Accuracy: {round(conf_accuracy,2)}')\n",
    "   print(f'Mis-Classification: {round(conf_misclassification,2)}')\n",
    "   print(f'Sensitivity: {round(conf_sensitivty,2)}')\n",
    "   print(f'Specificity: {round(conf_specificity,2)}')\n",
    "   print(f'Precision: {round(conf_precision,2)}')"
   ]
  },
  {
   "cell_type": "code",
   "execution_count": 63,
   "metadata": {},
   "outputs": [
    {
     "name": "stdout",
     "output_type": "stream",
     "text": [
      "0.7151603498542274\n"
     ]
    }
   ],
   "source": [
    "#accuracy metrics for DTC predictions\n",
    "print(metrics.accuracy_score(y_fin_test, predictions_fin))"
   ]
  },
  {
   "cell_type": "code",
   "execution_count": 64,
   "metadata": {},
   "outputs": [
    {
     "name": "stdout",
     "output_type": "stream",
     "text": [
      "0.7970845481049562\n"
     ]
    }
   ],
   "source": [
    "#accuracy metrics for DLR predictions\n",
    "print(metrics.accuracy_score(y_fin_test, predictions_finLR))"
   ]
  }
 ],
 "metadata": {
  "kernelspec": {
   "display_name": "Python 3",
   "language": "python",
   "name": "python3"
  },
  "language_info": {
   "codemirror_mode": {
    "name": "ipython",
    "version": 3
   },
   "file_extension": ".py",
   "mimetype": "text/x-python",
   "name": "python",
   "nbconvert_exporter": "python",
   "pygments_lexer": "ipython3",
   "version": "3.7.3"
  }
 },
 "nbformat": 4,
 "nbformat_minor": 2
}
